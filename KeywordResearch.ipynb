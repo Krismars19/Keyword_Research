{
  "nbformat": 4,
  "nbformat_minor": 0,
  "metadata": {
    "colab": {
      "name": "KeywordResearch.ipynb",
      "provenance": []
    },
    "kernelspec": {
      "name": "python3",
      "display_name": "Python 3"
    }
  },
  "cells": [
    {
      "cell_type": "markdown",
      "metadata": {
        "id": "z437sl6EHSSk"
      },
      "source": [
        "#### Keyword Research with Python"
      ]
    },
    {
      "cell_type": "markdown",
      "metadata": {
        "id": "h-DJf0s5Gw1o"
      },
      "source": [
        "This project aim is to search for recent keywords using the Google Trends. It is a keyword research tool that helps the researchers, bloggers and digital marketers in the digital industry to find how often a keyword is entered into Google search engine over a given period. This project follow similar method utilized in this [project](https://thecleverprogrammer.com/2020/08/14/keyword-research-with-python/)\r\n",
        "\r\n",
        "\r\n"
      ]
    },
    {
      "cell_type": "code",
      "metadata": {
        "colab": {
          "base_uri": "https://localhost:8080/"
        },
        "id": "8NNyZwi7GIhG",
        "outputId": "d8f7e89a-3950-4170-8221-507affd8d1a2"
      },
      "source": [
        "# Install relevant library\r\n",
        "\r\n",
        "!pip install pytrends"
      ],
      "execution_count": 1,
      "outputs": [
        {
          "output_type": "stream",
          "text": [
            "Requirement already satisfied: pytrends in /usr/local/lib/python3.6/dist-packages (4.7.3)\n",
            "Requirement already satisfied: lxml in /usr/local/lib/python3.6/dist-packages (from pytrends) (4.2.6)\n",
            "Requirement already satisfied: requests in /usr/local/lib/python3.6/dist-packages (from pytrends) (2.23.0)\n",
            "Requirement already satisfied: pandas>=0.25 in /usr/local/lib/python3.6/dist-packages (from pytrends) (1.1.5)\n",
            "Requirement already satisfied: idna<3,>=2.5 in /usr/local/lib/python3.6/dist-packages (from requests->pytrends) (2.10)\n",
            "Requirement already satisfied: certifi>=2017.4.17 in /usr/local/lib/python3.6/dist-packages (from requests->pytrends) (2020.12.5)\n",
            "Requirement already satisfied: urllib3!=1.25.0,!=1.25.1,<1.26,>=1.21.1 in /usr/local/lib/python3.6/dist-packages (from requests->pytrends) (1.24.3)\n",
            "Requirement already satisfied: chardet<4,>=3.0.2 in /usr/local/lib/python3.6/dist-packages (from requests->pytrends) (3.0.4)\n",
            "Requirement already satisfied: numpy>=1.15.4 in /usr/local/lib/python3.6/dist-packages (from pandas>=0.25->pytrends) (1.19.4)\n",
            "Requirement already satisfied: python-dateutil>=2.7.3 in /usr/local/lib/python3.6/dist-packages (from pandas>=0.25->pytrends) (2.8.1)\n",
            "Requirement already satisfied: pytz>=2017.2 in /usr/local/lib/python3.6/dist-packages (from pandas>=0.25->pytrends) (2018.9)\n",
            "Requirement already satisfied: six>=1.5 in /usr/local/lib/python3.6/dist-packages (from python-dateutil>=2.7.3->pandas>=0.25->pytrends) (1.15.0)\n"
          ],
          "name": "stdout"
        }
      ]
    },
    {
      "cell_type": "code",
      "metadata": {
        "id": "2EuRAWm6IDuA"
      },
      "source": [
        "# Import libraries\r\n",
        "\r\n",
        "import pandas as pd\r\n",
        "from pytrends.request import TrendReq\r\n",
        "import matplotlib.pyplot as plt\r\n",
        "trends = TrendReq()"
      ],
      "execution_count": 2,
      "outputs": []
    },
    {
      "cell_type": "markdown",
      "metadata": {
        "id": "-s7r58JLIQIf"
      },
      "source": [
        "Keyword Interest By Region"
      ]
    },
    {
      "cell_type": "code",
      "metadata": {
        "colab": {
          "base_uri": "https://localhost:8080/"
        },
        "id": "O2XkOf59IRkH",
        "outputId": "d3c63509-fa19-49dd-c395-342bfe0489f0"
      },
      "source": [
        "# I will search for christmas:\r\n",
        "\r\n",
        "trends.build_payload(kw_list=[\"christmas\"])\r\n",
        "data = trends.interest_by_region()\r\n",
        "print(data.sample(10))"
      ],
      "execution_count": 3,
      "outputs": [
        {
          "output_type": "stream",
          "text": [
            "                        christmas\n",
            "geoName                          \n",
            "Wallis & Futuna                 0\n",
            "Nigeria                        11\n",
            "Bolivia                         0\n",
            "Suriname                        0\n",
            "Mali                            0\n",
            "Luxembourg                      0\n",
            "Niue                            0\n",
            "Aruba                           0\n",
            "Turks & Caicos Islands          0\n",
            "Denmark                        11\n"
          ],
          "name": "stdout"
        }
      ]
    },
    {
      "cell_type": "markdown",
      "metadata": {
        "id": "xMyxgEeBJBTJ"
      },
      "source": [
        "Note: Values ​​are calculated on a scale of 0 to 100, where 100 is the most popular location as a fraction of the total searches for that location, a value of 50 indicates a location half as popular. "
      ]
    },
    {
      "cell_type": "code",
      "metadata": {
        "colab": {
          "base_uri": "https://localhost:8080/",
          "height": 407
        },
        "id": "OwgfO44kJHIf",
        "outputId": "fe5bcf4c-699d-4a7e-a93a-4afa3adfd83a"
      },
      "source": [
        "# Visualize the above search results to get better insights:\r\n",
        "\r\n",
        "df = data.sample(10)\r\n",
        "df.reset_index().plot(x=\"geoName\", y=\"christmas\", figsize=(10,5), kind=\"bar\")\r\n",
        "plt.show()"
      ],
      "execution_count": 4,
      "outputs": [
        {
          "output_type": "display_data",
          "data": {
            "image/png": "[encoded data removed]",
            "text/plain": [
              "<Figure size 720x360 with 1 Axes>"
            ]
          },
          "metadata": {
            "tags": [],
            "needs_background": "light"
          }
        }
      ]
    },
    {
      "cell_type": "markdown",
      "metadata": {
        "id": "wceove-SJwyj"
      },
      "source": [
        "Keyword Research with Python for Daily Search Trends\r\n",
        "\r\n",
        "- Take a look at the top daily search trends around the world. "
      ]
    },
    {
      "cell_type": "code",
      "metadata": {
        "colab": {
          "base_uri": "https://localhost:8080/"
        },
        "id": "GUnpRAPYJ0e5",
        "outputId": "f56f0a75-182c-4ab6-9dd4-b9bcc5fa80da"
      },
      "source": [
        "# To do this, we need to use the trending_searches () method:\r\n",
        "\r\n",
        "data = trends.trending_searches(pn=\"canada\")\r\n",
        "print(data.head(10))"
      ],
      "execution_count": 5,
      "outputs": [
        {
          "output_type": "stream",
          "text": [
            "                                0\n",
            "0                           Teams\n",
            "1                  Jeremy Bulloch\n",
            "2                 Emmanuel Macron\n",
            "3  Sheffield United vs Man United\n",
            "4                  Marcus Mariota\n",
            "5                Henrik Lundqvist\n",
            "6          Doug Ford announcement\n",
            "7                    Denis Tardif\n",
            "8                    Back 4 Blood\n",
            "9           Epic Games free games\n"
          ],
          "name": "stdout"
        }
      ]
    },
    {
      "cell_type": "markdown",
      "metadata": {
        "id": "UK_SMdX_KIbq"
      },
      "source": [
        "Google Keyword Suggestion\r\n",
        "\r\n",
        "- Let’s see how we can get the google keywords suggestion for keyword research with python. Keywords are those words that are mostly typed by users in the search engine to find about a particular topic:"
      ]
    },
    {
      "cell_type": "code",
      "metadata": {
        "colab": {
          "base_uri": "https://localhost:8080/"
        },
        "id": "81TUBM7aKR6Q",
        "outputId": "b1df95e5-e399-4337-c2f0-af68582d18e4"
      },
      "source": [
        "keyword = trends.suggestions(keyword=\"vaccine\")\r\n",
        "data = pd.DataFrame(keyword)\r\n",
        "print(data.head())"
      ],
      "execution_count": 6,
      "outputs": [
        {
          "output_type": "stream",
          "text": [
            "             mid                 title     type\n",
            "0       /m/07__7               Vaccine    Topic\n",
            "1  /g/11j8_9sv06      COVID-19 vaccine    Topic\n",
            "2      /m/0416v7     Influenza vaccine  Vaccine\n",
            "3      /m/094j5f           HPV vaccine  Vaccine\n",
            "4     /m/05c603r  Pneumococcal vaccine  Vaccine\n"
          ],
          "name": "stdout"
        }
      ]
    }
  ]
}